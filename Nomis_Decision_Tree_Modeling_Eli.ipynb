{
 "cells": [
  {
   "cell_type": "markdown",
   "metadata": {},
   "source": [
    "## Nomis Decision Tree Analysis - Modeling the datasets using Machine learning and Statistical analysis"
   ]
  },
  {
   "cell_type": "code",
   "execution_count": 1,
   "metadata": {
    "collapsed": true
   },
   "outputs": [],
   "source": [
    "import pandas as pd\n",
    "from sklearn.model_selection import train_test_split\n",
    "from sklearn.tree import DecisionTreeRegressor\n",
    "import matplotlib.pyplot as plt\n",
    "%matplotlib inline"
   ]
  },
  {
   "cell_type": "code",
   "execution_count": 2,
   "metadata": {
    "collapsed": true
   },
   "outputs": [],
   "source": [
    "raw = pd.read_csv('Nomis Solutions_Data Part I.csv')\n",
    "raw.rename(columns=str.lower, inplace=True)"
   ]
  },
  {
   "cell_type": "code",
   "execution_count": 3,
   "metadata": {},
   "outputs": [
    {
     "data": {
      "text/html": [
       "<div>\n",
       "<style>\n",
       "    .dataframe thead tr:only-child th {\n",
       "        text-align: right;\n",
       "    }\n",
       "\n",
       "    .dataframe thead th {\n",
       "        text-align: left;\n",
       "    }\n",
       "\n",
       "    .dataframe tbody tr th {\n",
       "        vertical-align: top;\n",
       "    }\n",
       "</style>\n",
       "<table border=\"1\" class=\"dataframe\">\n",
       "  <thead>\n",
       "    <tr style=\"text-align: right;\">\n",
       "      <th></th>\n",
       "      <th>tier</th>\n",
       "      <th>fico</th>\n",
       "      <th>term</th>\n",
       "      <th>amount</th>\n",
       "      <th>competition rate</th>\n",
       "      <th>outcome</th>\n",
       "      <th>rate</th>\n",
       "      <th>cost of funds</th>\n",
       "      <th>partner bin</th>\n",
       "      <th>diff</th>\n",
       "      <th>car  type_N</th>\n",
       "      <th>car  type_R</th>\n",
       "      <th>car  type_U</th>\n",
       "    </tr>\n",
       "  </thead>\n",
       "  <tbody>\n",
       "    <tr>\n",
       "      <th>0</th>\n",
       "      <td>3.0</td>\n",
       "      <td>695.0</td>\n",
       "      <td>72.0</td>\n",
       "      <td>35000.0</td>\n",
       "      <td>6.25</td>\n",
       "      <td>0.0</td>\n",
       "      <td>7.49</td>\n",
       "      <td>1.8388</td>\n",
       "      <td>1.0</td>\n",
       "      <td>1.24</td>\n",
       "      <td>1</td>\n",
       "      <td>0</td>\n",
       "      <td>0</td>\n",
       "    </tr>\n",
       "    <tr>\n",
       "      <th>1</th>\n",
       "      <td>1.0</td>\n",
       "      <td>751.0</td>\n",
       "      <td>60.0</td>\n",
       "      <td>40000.0</td>\n",
       "      <td>5.65</td>\n",
       "      <td>0.0</td>\n",
       "      <td>5.49</td>\n",
       "      <td>1.8388</td>\n",
       "      <td>3.0</td>\n",
       "      <td>-0.16</td>\n",
       "      <td>1</td>\n",
       "      <td>0</td>\n",
       "      <td>0</td>\n",
       "    </tr>\n",
       "    <tr>\n",
       "      <th>2</th>\n",
       "      <td>1.0</td>\n",
       "      <td>731.0</td>\n",
       "      <td>60.0</td>\n",
       "      <td>18064.0</td>\n",
       "      <td>5.65</td>\n",
       "      <td>0.0</td>\n",
       "      <td>5.49</td>\n",
       "      <td>1.8388</td>\n",
       "      <td>3.0</td>\n",
       "      <td>-0.16</td>\n",
       "      <td>1</td>\n",
       "      <td>0</td>\n",
       "      <td>0</td>\n",
       "    </tr>\n",
       "    <tr>\n",
       "      <th>3</th>\n",
       "      <td>4.0</td>\n",
       "      <td>652.0</td>\n",
       "      <td>72.0</td>\n",
       "      <td>15415.0</td>\n",
       "      <td>6.25</td>\n",
       "      <td>0.0</td>\n",
       "      <td>8.99</td>\n",
       "      <td>1.8388</td>\n",
       "      <td>3.0</td>\n",
       "      <td>2.74</td>\n",
       "      <td>1</td>\n",
       "      <td>0</td>\n",
       "      <td>0</td>\n",
       "    </tr>\n",
       "    <tr>\n",
       "      <th>4</th>\n",
       "      <td>1.0</td>\n",
       "      <td>730.0</td>\n",
       "      <td>48.0</td>\n",
       "      <td>32000.0</td>\n",
       "      <td>5.65</td>\n",
       "      <td>0.0</td>\n",
       "      <td>5.49</td>\n",
       "      <td>1.8388</td>\n",
       "      <td>1.0</td>\n",
       "      <td>-0.16</td>\n",
       "      <td>1</td>\n",
       "      <td>0</td>\n",
       "      <td>0</td>\n",
       "    </tr>\n",
       "  </tbody>\n",
       "</table>\n",
       "</div>"
      ],
      "text/plain": [
       "   tier   fico  term   amount  competition rate  outcome  rate  cost of funds  \\\n",
       "0   3.0  695.0  72.0  35000.0              6.25      0.0  7.49         1.8388   \n",
       "1   1.0  751.0  60.0  40000.0              5.65      0.0  5.49         1.8388   \n",
       "2   1.0  731.0  60.0  18064.0              5.65      0.0  5.49         1.8388   \n",
       "3   4.0  652.0  72.0  15415.0              6.25      0.0  8.99         1.8388   \n",
       "4   1.0  730.0  48.0  32000.0              5.65      0.0  5.49         1.8388   \n",
       "\n",
       "   partner bin  diff  car  type_N  car  type_R  car  type_U  \n",
       "0          1.0  1.24            1            0            0  \n",
       "1          3.0 -0.16            1            0            0  \n",
       "2          3.0 -0.16            1            0            0  \n",
       "3          3.0  2.74            1            0            0  \n",
       "4          1.0 -0.16            1            0            0  "
      ]
     },
     "execution_count": 3,
     "metadata": {},
     "output_type": "execute_result"
    }
   ],
   "source": [
    "data = raw.drop(raw.index[-3:])\n",
    "data.drop(['approve date', 'previous rate'], axis=1, inplace=True)\n",
    "data['diff'] = data['rate'] - data['competition rate']\n",
    "data = pd.get_dummies(data)\n",
    "data.head()"
   ]
  },
  {
   "cell_type": "code",
   "execution_count": 4,
   "metadata": {
    "collapsed": true
   },
   "outputs": [],
   "source": [
    "# segregate funded loan and lost sale\n",
    "train = data[data['outcome']==1].drop(['outcome', 'rate'], axis=1)\n",
    "test = data[data['outcome']==0].drop(['outcome', 'rate'], axis=1)"
   ]
  },
  {
   "cell_type": "code",
   "execution_count": 5,
   "metadata": {},
   "outputs": [
    {
     "data": {
      "text/html": [
       "<div>\n",
       "<style>\n",
       "    .dataframe thead tr:only-child th {\n",
       "        text-align: right;\n",
       "    }\n",
       "\n",
       "    .dataframe thead th {\n",
       "        text-align: left;\n",
       "    }\n",
       "\n",
       "    .dataframe tbody tr th {\n",
       "        vertical-align: top;\n",
       "    }\n",
       "</style>\n",
       "<table border=\"1\" class=\"dataframe\">\n",
       "  <thead>\n",
       "    <tr style=\"text-align: right;\">\n",
       "      <th></th>\n",
       "      <th>tier</th>\n",
       "      <th>fico</th>\n",
       "      <th>term</th>\n",
       "      <th>amount</th>\n",
       "      <th>competition rate</th>\n",
       "      <th>cost of funds</th>\n",
       "      <th>partner bin</th>\n",
       "      <th>diff</th>\n",
       "      <th>car  type_N</th>\n",
       "      <th>car  type_R</th>\n",
       "      <th>car  type_U</th>\n",
       "    </tr>\n",
       "  </thead>\n",
       "  <tbody>\n",
       "    <tr>\n",
       "      <th>27</th>\n",
       "      <td>1.0</td>\n",
       "      <td>0.351378</td>\n",
       "      <td>1.000000</td>\n",
       "      <td>0.037018</td>\n",
       "      <td>4.95</td>\n",
       "      <td>1.875102</td>\n",
       "      <td>1.0</td>\n",
       "      <td>-0.10</td>\n",
       "      <td>1</td>\n",
       "      <td>0</td>\n",
       "      <td>0</td>\n",
       "    </tr>\n",
       "    <tr>\n",
       "      <th>36</th>\n",
       "      <td>1.0</td>\n",
       "      <td>0.556511</td>\n",
       "      <td>1.666667</td>\n",
       "      <td>1.914367</td>\n",
       "      <td>5.65</td>\n",
       "      <td>1.875102</td>\n",
       "      <td>1.0</td>\n",
       "      <td>-0.16</td>\n",
       "      <td>1</td>\n",
       "      <td>0</td>\n",
       "      <td>0</td>\n",
       "    </tr>\n",
       "    <tr>\n",
       "      <th>37</th>\n",
       "      <td>1.0</td>\n",
       "      <td>1.149119</td>\n",
       "      <td>1.333333</td>\n",
       "      <td>-0.730788</td>\n",
       "      <td>5.85</td>\n",
       "      <td>1.875102</td>\n",
       "      <td>3.0</td>\n",
       "      <td>0.00</td>\n",
       "      <td>0</td>\n",
       "      <td>0</td>\n",
       "      <td>1</td>\n",
       "    </tr>\n",
       "    <tr>\n",
       "      <th>43</th>\n",
       "      <td>2.0</td>\n",
       "      <td>-0.081682</td>\n",
       "      <td>1.666667</td>\n",
       "      <td>0.057565</td>\n",
       "      <td>5.65</td>\n",
       "      <td>1.875102</td>\n",
       "      <td>3.0</td>\n",
       "      <td>-0.26</td>\n",
       "      <td>1</td>\n",
       "      <td>0</td>\n",
       "      <td>0</td>\n",
       "    </tr>\n",
       "    <tr>\n",
       "      <th>54</th>\n",
       "      <td>2.0</td>\n",
       "      <td>-0.628705</td>\n",
       "      <td>2.000000</td>\n",
       "      <td>0.616778</td>\n",
       "      <td>6.25</td>\n",
       "      <td>1.875102</td>\n",
       "      <td>3.0</td>\n",
       "      <td>0.74</td>\n",
       "      <td>1</td>\n",
       "      <td>0</td>\n",
       "      <td>0</td>\n",
       "    </tr>\n",
       "    <tr>\n",
       "      <th>56</th>\n",
       "      <td>1.0</td>\n",
       "      <td>0.647682</td>\n",
       "      <td>1.833333</td>\n",
       "      <td>-0.703645</td>\n",
       "      <td>6.45</td>\n",
       "      <td>1.875102</td>\n",
       "      <td>1.0</td>\n",
       "      <td>0.04</td>\n",
       "      <td>0</td>\n",
       "      <td>0</td>\n",
       "      <td>1</td>\n",
       "    </tr>\n",
       "    <tr>\n",
       "      <th>79</th>\n",
       "      <td>4.0</td>\n",
       "      <td>-1.585994</td>\n",
       "      <td>1.666667</td>\n",
       "      <td>0.014173</td>\n",
       "      <td>5.85</td>\n",
       "      <td>1.875102</td>\n",
       "      <td>1.0</td>\n",
       "      <td>2.14</td>\n",
       "      <td>0</td>\n",
       "      <td>0</td>\n",
       "      <td>1</td>\n",
       "    </tr>\n",
       "    <tr>\n",
       "      <th>83</th>\n",
       "      <td>1.0</td>\n",
       "      <td>0.875608</td>\n",
       "      <td>2.000000</td>\n",
       "      <td>-0.887000</td>\n",
       "      <td>6.45</td>\n",
       "      <td>1.875102</td>\n",
       "      <td>1.0</td>\n",
       "      <td>0.24</td>\n",
       "      <td>0</td>\n",
       "      <td>0</td>\n",
       "      <td>1</td>\n",
       "    </tr>\n",
       "    <tr>\n",
       "      <th>85</th>\n",
       "      <td>1.0</td>\n",
       "      <td>1.171912</td>\n",
       "      <td>2.000000</td>\n",
       "      <td>0.135599</td>\n",
       "      <td>6.25</td>\n",
       "      <td>1.875102</td>\n",
       "      <td>1.0</td>\n",
       "      <td>0.34</td>\n",
       "      <td>1</td>\n",
       "      <td>0</td>\n",
       "      <td>0</td>\n",
       "    </tr>\n",
       "    <tr>\n",
       "      <th>95</th>\n",
       "      <td>2.0</td>\n",
       "      <td>-0.605912</td>\n",
       "      <td>1.666667</td>\n",
       "      <td>-0.243069</td>\n",
       "      <td>5.85</td>\n",
       "      <td>1.875102</td>\n",
       "      <td>1.0</td>\n",
       "      <td>0.34</td>\n",
       "      <td>0</td>\n",
       "      <td>0</td>\n",
       "      <td>1</td>\n",
       "    </tr>\n",
       "  </tbody>\n",
       "</table>\n",
       "</div>"
      ],
      "text/plain": [
       "    tier      fico      term    amount  competition rate  cost of funds  \\\n",
       "27   1.0  0.351378  1.000000  0.037018              4.95       1.875102   \n",
       "36   1.0  0.556511  1.666667  1.914367              5.65       1.875102   \n",
       "37   1.0  1.149119  1.333333 -0.730788              5.85       1.875102   \n",
       "43   2.0 -0.081682  1.666667  0.057565              5.65       1.875102   \n",
       "54   2.0 -0.628705  2.000000  0.616778              6.25       1.875102   \n",
       "56   1.0  0.647682  1.833333 -0.703645              6.45       1.875102   \n",
       "79   4.0 -1.585994  1.666667  0.014173              5.85       1.875102   \n",
       "83   1.0  0.875608  2.000000 -0.887000              6.45       1.875102   \n",
       "85   1.0  1.171912  2.000000  0.135599              6.25       1.875102   \n",
       "95   2.0 -0.605912  1.666667 -0.243069              5.85       1.875102   \n",
       "\n",
       "    partner bin  diff  car  type_N  car  type_R  car  type_U  \n",
       "27          1.0 -0.10            1            0            0  \n",
       "36          1.0 -0.16            1            0            0  \n",
       "37          3.0  0.00            0            0            1  \n",
       "43          3.0 -0.26            1            0            0  \n",
       "54          3.0  0.74            1            0            0  \n",
       "56          1.0  0.04            0            0            1  \n",
       "79          1.0  2.14            0            0            1  \n",
       "83          1.0  0.24            0            0            1  \n",
       "85          1.0  0.34            1            0            0  \n",
       "95          1.0  0.34            0            0            1  "
      ]
     },
     "execution_count": 5,
     "metadata": {},
     "output_type": "execute_result"
    }
   ],
   "source": [
    "# Normalize train data and test data\n",
    "fico_mean, fico_std = train['fico'].mean(), train['fico'].std()\n",
    "amount_mean, amount_std = train['amount'].mean(), train['amount'].std()\n",
    "cof_mean, cof_std = train['cost of funds'].mean(), train['cost of funds'].std()\n",
    "\n",
    "train[['fico','amount', 'cost of funds']] = \\\n",
    "train[['fico','amount', 'cost of funds']].apply(lambda df:(df-df.mean())/df.std())\n",
    "train['term'] = train['term'] / 36\n",
    "\n",
    "test['fico'] = (test['fico'] - fico_mean) / fico_std\n",
    "test['amount'] = (test['amount'] - amount_mean) / amount_std\n",
    "test['cost of funds'] = (test['cost of funds'] - cof_mean) /  cof_std\n",
    "test['term'] = test['term'] / 36\n",
    "\n",
    "train.head(10)"
   ]
  },
  {
   "cell_type": "code",
   "execution_count": 6,
   "metadata": {
    "collapsed": true
   },
   "outputs": [],
   "source": [
    "# Extract independent variable and dependdent variable\n",
    "X = train.drop('diff',axis=1)\n",
    "Y = train['diff']\n",
    "test_X = test.drop('diff',axis=1)\n",
    "test_Y = test['diff']"
   ]
  },
  {
   "cell_type": "code",
   "execution_count": 7,
   "metadata": {},
   "outputs": [
    {
     "data": {
      "image/png": "[encoded data removed]",
      "text/plain": [
       "<matplotlib.figure.Figure at 0x1118fd7b8>"
      ]
     },
     "metadata": {},
     "output_type": "display_data"
    }
   ],
   "source": [
    "# Find appropriate hyperparameter\n",
    "deplist = [3,5,8,10,15,20,30,50,80]\n",
    "trainscore=[]\n",
    "testscore=[]\n",
    "for dep in deplist:\n",
    "    model = DecisionTreeRegressor(max_depth=dep)\n",
    "    model.fit(X,Y)\n",
    "    trainscore.append(model.score(X,Y))\n",
    "    testscore.append(model.score(test_X,test_Y))\n",
    "result = pd.DataFrame({'TrainScore':trainscore, 'TestScore':testscore}, index=deplist)\n",
    "result.plot(title='Tree Depth vs Performance')\n",
    "plt.xlabel('Tree Depth')\n",
    "plt.ylabel('R^2');"
   ]
  },
  {
   "cell_type": "code",
   "execution_count": 10,
   "metadata": {},
   "outputs": [
    {
     "name": "stdout",
     "output_type": "stream",
     "text": [
      "Feature importance is \n",
      " [ 0.6453758   0.0404054   0.03358023  0.04678092  0.0986323   0.09609978\n",
      "  0.00685272  0.00567513  0.01919352  0.00740418]\n",
      "The coefficient of determination, R^2, of train set is 0.985.\n",
      "The coefficient of determination, R^2, of test set is 0.758.\n",
      "The coefficient of determination, R^2, of lost sale set is 0.784.\n"
     ]
    }
   ],
   "source": [
    "# Apply tuned hyperparameter to DecisionTreeRegressor Model\n",
    "x_train, x_test, y_train, y_test = train_test_split(X, Y, test_size=0.2, random_state=42)\n",
    "model = DecisionTreeRegressor(max_depth=20)\n",
    "model.fit(x_train,y_train)\n",
    "print(\"Feature importance is\",\"\\n\",model.feature_importances_)\n",
    "print(\"The coefficient of determination, R^2, of train set is {:.3f}.\".format(model.score(x_train,y_train)))\n",
    "print(\"The coefficient of determination, R^2, of test set is {:.3f}.\".format(model.score(x_test,y_test)))\n",
    "print(\"The coefficient of determination, R^2, of lost sale set is {:.3f}.\".format(model.score(test_X,test_Y)))"
   ]
  },
  {
   "cell_type": "code",
   "execution_count": 11,
   "metadata": {},
   "outputs": [
    {
     "data": {
      "text/plain": [
       "<matplotlib.axes._subplots.AxesSubplot at 0x10596d278>"
      ]
     },
     "execution_count": 11,
     "metadata": {},
     "output_type": "execute_result"
    },
    {
     "data": {
      "image/png": "[encoded data removed]",
      "text/plain": [
       "<matplotlib.figure.Figure at 0x1118ada20>"
      ]
     },
     "metadata": {},
     "output_type": "display_data"
    }
   ],
   "source": [
    "# Plot predict result for adjusted APR of lost sale\n",
    "examine = model.predict(test_X) - test_Y\n",
    "examine.plot(kind='box', notch=True, bootstrap=1000, showmeans=True, title='Predicted APR vs Quoted APR')"
   ]
  },
  {
   "cell_type": "code",
   "execution_count": 12,
   "metadata": {},
   "outputs": [
    {
     "data": {
      "text/plain": [
       "25%~50%     73083\n",
       "0~25%       40576\n",
       "75%~100%    40574\n",
       "50%~75%      8065\n",
       "Name: diff, dtype: int64"
      ]
     },
     "execution_count": 12,
     "metadata": {},
     "output_type": "execute_result"
    }
   ],
   "source": [
    "# Distribution of predict result for adjusted APR of lost sale\n",
    "\n",
    "# examine[examine <= examine.quantile(0.25)].count()\n",
    "pd.qcut(examine, 4,precision=8,labels=['0~25%','25%~50%','50%~75%','75%~100%'],duplicates='drop').value_counts()"
   ]
  },
  {
   "cell_type": "code",
   "execution_count": 13,
   "metadata": {},
   "outputs": [
    {
     "data": {
      "image/png": "[encoded data removed]",
      "text/plain": [
       "<matplotlib.figure.Figure at 0x1119d86a0>"
      ]
     },
     "metadata": {},
     "output_type": "display_data"
    }
   ],
   "source": [
    "pd.qcut(examine,4,labels=['0~25%','25%~50%','50%~75%','75%~100%'],precision=8,duplicates='drop')\\\n",
    ".value_counts()\\\n",
    ".plot(kind='bar',rot=0, title='Potential Funded vs Lost Sales')\n",
    "plt.ylabel('Number');"
   ]
  },
  {
   "cell_type": "markdown",
   "metadata": {},
   "source": [
    "## With Clustering"
   ]
  },
  {
   "cell_type": "code",
   "execution_count": 14,
   "metadata": {},
   "outputs": [
    {
     "data": {
      "text/html": [
       "<div>\n",
       "<style>\n",
       "    .dataframe thead tr:only-child th {\n",
       "        text-align: right;\n",
       "    }\n",
       "\n",
       "    .dataframe thead th {\n",
       "        text-align: left;\n",
       "    }\n",
       "\n",
       "    .dataframe tbody tr th {\n",
       "        vertical-align: top;\n",
       "    }\n",
       "</style>\n",
       "<table border=\"1\" class=\"dataframe\">\n",
       "  <thead>\n",
       "    <tr style=\"text-align: right;\">\n",
       "      <th></th>\n",
       "      <th>tier</th>\n",
       "      <th>fico</th>\n",
       "      <th>term</th>\n",
       "      <th>amount</th>\n",
       "      <th>previous_rate</th>\n",
       "      <th>competition_rate</th>\n",
       "      <th>outcome</th>\n",
       "      <th>rate</th>\n",
       "      <th>cost_of_funds</th>\n",
       "      <th>partner_bin</th>\n",
       "      <th>car_type_N</th>\n",
       "      <th>car_type_R</th>\n",
       "      <th>car_type_U</th>\n",
       "      <th>cluster_number</th>\n",
       "    </tr>\n",
       "  </thead>\n",
       "  <tbody>\n",
       "    <tr>\n",
       "      <th>0</th>\n",
       "      <td>3.0</td>\n",
       "      <td>695.0</td>\n",
       "      <td>72.0</td>\n",
       "      <td>35000.0</td>\n",
       "      <td>0.0</td>\n",
       "      <td>6.25</td>\n",
       "      <td>0.0</td>\n",
       "      <td>7.49</td>\n",
       "      <td>1.8388</td>\n",
       "      <td>1.0</td>\n",
       "      <td>1.0</td>\n",
       "      <td>0.0</td>\n",
       "      <td>0.0</td>\n",
       "      <td>8.0</td>\n",
       "    </tr>\n",
       "    <tr>\n",
       "      <th>1</th>\n",
       "      <td>1.0</td>\n",
       "      <td>751.0</td>\n",
       "      <td>60.0</td>\n",
       "      <td>40000.0</td>\n",
       "      <td>0.0</td>\n",
       "      <td>5.65</td>\n",
       "      <td>0.0</td>\n",
       "      <td>5.49</td>\n",
       "      <td>1.8388</td>\n",
       "      <td>3.0</td>\n",
       "      <td>1.0</td>\n",
       "      <td>0.0</td>\n",
       "      <td>0.0</td>\n",
       "      <td>17.0</td>\n",
       "    </tr>\n",
       "    <tr>\n",
       "      <th>2</th>\n",
       "      <td>1.0</td>\n",
       "      <td>731.0</td>\n",
       "      <td>60.0</td>\n",
       "      <td>18064.0</td>\n",
       "      <td>0.0</td>\n",
       "      <td>5.65</td>\n",
       "      <td>0.0</td>\n",
       "      <td>5.49</td>\n",
       "      <td>1.8388</td>\n",
       "      <td>3.0</td>\n",
       "      <td>1.0</td>\n",
       "      <td>0.0</td>\n",
       "      <td>0.0</td>\n",
       "      <td>14.0</td>\n",
       "    </tr>\n",
       "    <tr>\n",
       "      <th>3</th>\n",
       "      <td>4.0</td>\n",
       "      <td>652.0</td>\n",
       "      <td>72.0</td>\n",
       "      <td>15415.0</td>\n",
       "      <td>0.0</td>\n",
       "      <td>6.25</td>\n",
       "      <td>0.0</td>\n",
       "      <td>8.99</td>\n",
       "      <td>1.8388</td>\n",
       "      <td>3.0</td>\n",
       "      <td>1.0</td>\n",
       "      <td>0.0</td>\n",
       "      <td>0.0</td>\n",
       "      <td>86.0</td>\n",
       "    </tr>\n",
       "    <tr>\n",
       "      <th>4</th>\n",
       "      <td>1.0</td>\n",
       "      <td>730.0</td>\n",
       "      <td>48.0</td>\n",
       "      <td>32000.0</td>\n",
       "      <td>0.0</td>\n",
       "      <td>5.65</td>\n",
       "      <td>0.0</td>\n",
       "      <td>5.49</td>\n",
       "      <td>1.8388</td>\n",
       "      <td>1.0</td>\n",
       "      <td>1.0</td>\n",
       "      <td>0.0</td>\n",
       "      <td>0.0</td>\n",
       "      <td>28.0</td>\n",
       "    </tr>\n",
       "  </tbody>\n",
       "</table>\n",
       "</div>"
      ],
      "text/plain": [
       "   tier   fico  term   amount  previous_rate  competition_rate  outcome  rate  \\\n",
       "0   3.0  695.0  72.0  35000.0            0.0              6.25      0.0  7.49   \n",
       "1   1.0  751.0  60.0  40000.0            0.0              5.65      0.0  5.49   \n",
       "2   1.0  731.0  60.0  18064.0            0.0              5.65      0.0  5.49   \n",
       "3   4.0  652.0  72.0  15415.0            0.0              6.25      0.0  8.99   \n",
       "4   1.0  730.0  48.0  32000.0            0.0              5.65      0.0  5.49   \n",
       "\n",
       "   cost_of_funds  partner_bin  car_type_N  car_type_R  car_type_U  \\\n",
       "0         1.8388          1.0         1.0         0.0         0.0   \n",
       "1         1.8388          3.0         1.0         0.0         0.0   \n",
       "2         1.8388          3.0         1.0         0.0         0.0   \n",
       "3         1.8388          3.0         1.0         0.0         0.0   \n",
       "4         1.8388          1.0         1.0         0.0         0.0   \n",
       "\n",
       "   cluster_number  \n",
       "0             8.0  \n",
       "1            17.0  \n",
       "2            14.0  \n",
       "3            86.0  \n",
       "4            28.0  "
      ]
     },
     "execution_count": 14,
     "metadata": {},
     "output_type": "execute_result"
    }
   ],
   "source": [
    "clus = pd.read_csv('clustered_data.csv', index_col=0)\n",
    "clus.head()"
   ]
  },
  {
   "cell_type": "code",
   "execution_count": 15,
   "metadata": {
    "collapsed": true
   },
   "outputs": [],
   "source": [
    "data2 = clus.drop(['previous_rate'], axis=1)\n",
    "data2.dropna(axis=0, inplace=True)\n",
    "data2['diff'] = data2['rate'] - data2['competition_rate']"
   ]
  },
  {
   "cell_type": "code",
   "execution_count": 16,
   "metadata": {
    "collapsed": true
   },
   "outputs": [],
   "source": [
    "# segregate funded loan and lost sale\n",
    "train2 = data2[data2['outcome']==1].drop(['outcome', 'rate'], axis=1)\n",
    "test2 = data2[data2['outcome']==0].drop(['outcome', 'rate'], axis=1)"
   ]
  },
  {
   "cell_type": "code",
   "execution_count": 17,
   "metadata": {},
   "outputs": [
    {
     "data": {
      "text/html": [
       "<div>\n",
       "<style>\n",
       "    .dataframe thead tr:only-child th {\n",
       "        text-align: right;\n",
       "    }\n",
       "\n",
       "    .dataframe thead th {\n",
       "        text-align: left;\n",
       "    }\n",
       "\n",
       "    .dataframe tbody tr th {\n",
       "        vertical-align: top;\n",
       "    }\n",
       "</style>\n",
       "<table border=\"1\" class=\"dataframe\">\n",
       "  <thead>\n",
       "    <tr style=\"text-align: right;\">\n",
       "      <th></th>\n",
       "      <th>tier</th>\n",
       "      <th>fico</th>\n",
       "      <th>term</th>\n",
       "      <th>amount</th>\n",
       "      <th>competition_rate</th>\n",
       "      <th>cost_of_funds</th>\n",
       "      <th>partner_bin</th>\n",
       "      <th>car_type_N</th>\n",
       "      <th>car_type_R</th>\n",
       "      <th>car_type_U</th>\n",
       "      <th>cluster_number</th>\n",
       "      <th>diff</th>\n",
       "    </tr>\n",
       "  </thead>\n",
       "  <tbody>\n",
       "    <tr>\n",
       "      <th>27</th>\n",
       "      <td>1.0</td>\n",
       "      <td>0.351376</td>\n",
       "      <td>1.000000</td>\n",
       "      <td>0.036970</td>\n",
       "      <td>4.95</td>\n",
       "      <td>1.875533</td>\n",
       "      <td>1.0</td>\n",
       "      <td>1.0</td>\n",
       "      <td>0.0</td>\n",
       "      <td>0.0</td>\n",
       "      <td>32.0</td>\n",
       "      <td>-0.10</td>\n",
       "    </tr>\n",
       "    <tr>\n",
       "      <th>36</th>\n",
       "      <td>1.0</td>\n",
       "      <td>0.556524</td>\n",
       "      <td>1.666667</td>\n",
       "      <td>1.914332</td>\n",
       "      <td>5.65</td>\n",
       "      <td>1.875533</td>\n",
       "      <td>1.0</td>\n",
       "      <td>1.0</td>\n",
       "      <td>0.0</td>\n",
       "      <td>0.0</td>\n",
       "      <td>33.0</td>\n",
       "      <td>-0.16</td>\n",
       "    </tr>\n",
       "    <tr>\n",
       "      <th>37</th>\n",
       "      <td>1.0</td>\n",
       "      <td>1.149173</td>\n",
       "      <td>1.333333</td>\n",
       "      <td>-0.730842</td>\n",
       "      <td>5.85</td>\n",
       "      <td>1.875533</td>\n",
       "      <td>3.0</td>\n",
       "      <td>0.0</td>\n",
       "      <td>0.0</td>\n",
       "      <td>1.0</td>\n",
       "      <td>35.0</td>\n",
       "      <td>0.00</td>\n",
       "    </tr>\n",
       "    <tr>\n",
       "      <th>43</th>\n",
       "      <td>2.0</td>\n",
       "      <td>-0.081714</td>\n",
       "      <td>1.666667</td>\n",
       "      <td>0.057517</td>\n",
       "      <td>5.65</td>\n",
       "      <td>1.875533</td>\n",
       "      <td>3.0</td>\n",
       "      <td>1.0</td>\n",
       "      <td>0.0</td>\n",
       "      <td>0.0</td>\n",
       "      <td>72.0</td>\n",
       "      <td>-0.26</td>\n",
       "    </tr>\n",
       "    <tr>\n",
       "      <th>54</th>\n",
       "      <td>2.0</td>\n",
       "      <td>-0.628775</td>\n",
       "      <td>2.000000</td>\n",
       "      <td>0.616735</td>\n",
       "      <td>6.25</td>\n",
       "      <td>1.875533</td>\n",
       "      <td>3.0</td>\n",
       "      <td>1.0</td>\n",
       "      <td>0.0</td>\n",
       "      <td>0.0</td>\n",
       "      <td>68.0</td>\n",
       "      <td>0.74</td>\n",
       "    </tr>\n",
       "    <tr>\n",
       "      <th>56</th>\n",
       "      <td>1.0</td>\n",
       "      <td>0.647701</td>\n",
       "      <td>1.833333</td>\n",
       "      <td>-0.703698</td>\n",
       "      <td>6.45</td>\n",
       "      <td>1.875533</td>\n",
       "      <td>1.0</td>\n",
       "      <td>0.0</td>\n",
       "      <td>0.0</td>\n",
       "      <td>1.0</td>\n",
       "      <td>35.0</td>\n",
       "      <td>0.04</td>\n",
       "    </tr>\n",
       "    <tr>\n",
       "      <th>79</th>\n",
       "      <td>4.0</td>\n",
       "      <td>-1.586132</td>\n",
       "      <td>1.666667</td>\n",
       "      <td>0.014125</td>\n",
       "      <td>5.85</td>\n",
       "      <td>1.875533</td>\n",
       "      <td>1.0</td>\n",
       "      <td>0.0</td>\n",
       "      <td>0.0</td>\n",
       "      <td>1.0</td>\n",
       "      <td>32.0</td>\n",
       "      <td>2.14</td>\n",
       "    </tr>\n",
       "    <tr>\n",
       "      <th>83</th>\n",
       "      <td>1.0</td>\n",
       "      <td>0.875643</td>\n",
       "      <td>2.000000</td>\n",
       "      <td>-0.887055</td>\n",
       "      <td>6.45</td>\n",
       "      <td>1.875533</td>\n",
       "      <td>1.0</td>\n",
       "      <td>0.0</td>\n",
       "      <td>0.0</td>\n",
       "      <td>1.0</td>\n",
       "      <td>47.0</td>\n",
       "      <td>0.24</td>\n",
       "    </tr>\n",
       "    <tr>\n",
       "      <th>85</th>\n",
       "      <td>1.0</td>\n",
       "      <td>1.171967</td>\n",
       "      <td>2.000000</td>\n",
       "      <td>0.135551</td>\n",
       "      <td>6.25</td>\n",
       "      <td>1.875533</td>\n",
       "      <td>1.0</td>\n",
       "      <td>1.0</td>\n",
       "      <td>0.0</td>\n",
       "      <td>0.0</td>\n",
       "      <td>7.0</td>\n",
       "      <td>0.34</td>\n",
       "    </tr>\n",
       "    <tr>\n",
       "      <th>95</th>\n",
       "      <td>2.0</td>\n",
       "      <td>-0.605981</td>\n",
       "      <td>1.666667</td>\n",
       "      <td>-0.243119</td>\n",
       "      <td>5.85</td>\n",
       "      <td>1.875533</td>\n",
       "      <td>1.0</td>\n",
       "      <td>0.0</td>\n",
       "      <td>0.0</td>\n",
       "      <td>1.0</td>\n",
       "      <td>67.0</td>\n",
       "      <td>0.34</td>\n",
       "    </tr>\n",
       "  </tbody>\n",
       "</table>\n",
       "</div>"
      ],
      "text/plain": [
       "    tier      fico      term    amount  competition_rate  cost_of_funds  \\\n",
       "27   1.0  0.351376  1.000000  0.036970              4.95       1.875533   \n",
       "36   1.0  0.556524  1.666667  1.914332              5.65       1.875533   \n",
       "37   1.0  1.149173  1.333333 -0.730842              5.85       1.875533   \n",
       "43   2.0 -0.081714  1.666667  0.057517              5.65       1.875533   \n",
       "54   2.0 -0.628775  2.000000  0.616735              6.25       1.875533   \n",
       "56   1.0  0.647701  1.833333 -0.703698              6.45       1.875533   \n",
       "79   4.0 -1.586132  1.666667  0.014125              5.85       1.875533   \n",
       "83   1.0  0.875643  2.000000 -0.887055              6.45       1.875533   \n",
       "85   1.0  1.171967  2.000000  0.135551              6.25       1.875533   \n",
       "95   2.0 -0.605981  1.666667 -0.243119              5.85       1.875533   \n",
       "\n",
       "    partner_bin  car_type_N  car_type_R  car_type_U  cluster_number  diff  \n",
       "27          1.0         1.0         0.0         0.0            32.0 -0.10  \n",
       "36          1.0         1.0         0.0         0.0            33.0 -0.16  \n",
       "37          3.0         0.0         0.0         1.0            35.0  0.00  \n",
       "43          3.0         1.0         0.0         0.0            72.0 -0.26  \n",
       "54          3.0         1.0         0.0         0.0            68.0  0.74  \n",
       "56          1.0         0.0         0.0         1.0            35.0  0.04  \n",
       "79          1.0         0.0         0.0         1.0            32.0  2.14  \n",
       "83          1.0         0.0         0.0         1.0            47.0  0.24  \n",
       "85          1.0         1.0         0.0         0.0             7.0  0.34  \n",
       "95          1.0         0.0         0.0         1.0            67.0  0.34  "
      ]
     },
     "execution_count": 17,
     "metadata": {},
     "output_type": "execute_result"
    }
   ],
   "source": [
    "# Normalize train data and test data\n",
    "fico_mean_2, fico_std_2 = train2['fico'].mean(), train2['fico'].std()\n",
    "amount_mean_2, amount_std_2 = train2['amount'].mean(), train2['amount'].std()\n",
    "cof_mean_2, cof_std_2 = train2['cost_of_funds'].mean(), train2['cost_of_funds'].std()\n",
    "\n",
    "train2[['fico','amount', 'cost_of_funds']] = \\\n",
    "train2[['fico','amount', 'cost_of_funds']].apply(lambda df:(df-df.mean())/df.std())\n",
    "train2['term'] = train2['term'] / 36\n",
    "\n",
    "test2['fico'] = (test2['fico'] - fico_mean_2) / fico_std_2\n",
    "test2['amount'] = (test2['amount'] - amount_mean_2) / amount_std_2\n",
    "test2['cost_of_funds'] = (test2['cost_of_funds'] - cof_mean_2) /  cof_std_2\n",
    "test2['term'] = test2['term'] / 36\n",
    "\n",
    "train2.head(10)"
   ]
  },
  {
   "cell_type": "code",
   "execution_count": 18,
   "metadata": {
    "collapsed": true
   },
   "outputs": [],
   "source": [
    "# Extract independent variable and dependdent variable\n",
    "X2 = train2.drop('diff',axis=1)\n",
    "Y2 = train2['diff']\n",
    "test_X2 = test2.drop('diff',axis=1)\n",
    "test_Y2 = test2['diff']"
   ]
  },
  {
   "cell_type": "code",
   "execution_count": 19,
   "metadata": {},
   "outputs": [
    {
     "data": {
      "image/png": "[encoded data removed]",
      "text/plain": [
       "<matplotlib.figure.Figure at 0x110f7cb70>"
      ]
     },
     "metadata": {},
     "output_type": "display_data"
    }
   ],
   "source": [
    "# Find appropriate hyperparameter\n",
    "deplist = [3,5,8,10,15,20,30,50,80]\n",
    "trainscore2=[]\n",
    "testscore2=[]\n",
    "for dep in deplist:\n",
    "    model2 = DecisionTreeRegressor(max_depth=dep)\n",
    "    model2.fit(X2,Y2)\n",
    "    trainscore2.append(model2.score(X2,Y2))\n",
    "    testscore2.append(model2.score(test_X2,test_Y2))\n",
    "result2 = pd.DataFrame({'TrainScore':trainscore2, 'TestScore':testscore2}, index=deplist)\n",
    "result2.plot(title='Tree Depth vs Performance')\n",
    "plt.xlabel('Tree Depth')\n",
    "plt.ylabel('R^2');"
   ]
  },
  {
   "cell_type": "code",
   "execution_count": 20,
   "metadata": {},
   "outputs": [
    {
     "name": "stdout",
     "output_type": "stream",
     "text": [
      "Feature importance is \n",
      " [ 0.64425607  0.0367522   0.026384    0.04479399  0.10853323  0.0850975\n",
      "  0.00631637  0.00507248  0.01878911  0.00578442  0.01822064]\n",
      "The coefficient of determination, R^2, of train set is 0.986.\n",
      "The coefficient of determination, R^2, of test set is 0.742.\n",
      "The coefficient of determination, R^2, of lost sale set is 0.787.\n"
     ]
    }
   ],
   "source": [
    "# Apply tuned hyperparameter to DecisionTreeRegressor Model\n",
    "x_train2, x_test2, y_train2, y_test2 = train_test_split(X2, Y2, test_size=0.2, random_state=42)\n",
    "model2 = DecisionTreeRegressor(max_depth=20)\n",
    "model2.fit(x_train2,y_train2)\n",
    "print(\"Feature importance is\",\"\\n\",model2.feature_importances_)\n",
    "print(\"The coefficient of determination, R^2, of train set is {:.3f}.\".format(model2.score(x_train2,y_train2)))\n",
    "print(\"The coefficient of determination, R^2, of test set is {:.3f}.\".format(model2.score(x_test2,y_test2)))\n",
    "print(\"The coefficient of determination, R^2, of lost sale set is {:.3f}.\".format(model2.score(test_X2,test_Y2)))"
   ]
  },
  {
   "cell_type": "code",
   "execution_count": 21,
   "metadata": {},
   "outputs": [
    {
     "data": {
      "text/plain": [
       "<matplotlib.axes._subplots.AxesSubplot at 0x111ec92e8>"
      ]
     },
     "execution_count": 21,
     "metadata": {},
     "output_type": "execute_result"
    },
    {
     "data": {
      "image/png": "[encoded data removed]",
      "text/plain": [
       "<matplotlib.figure.Figure at 0x11e4fd358>"
      ]
     },
     "metadata": {},
     "output_type": "display_data"
    }
   ],
   "source": [
    "# Plot predict result for adjusted APR of lost sale\n",
    "examine2 = model2.predict(test_X2) - test_Y2\n",
    "examine2.plot(kind='box', notch=True, bootstrap=1000, showmeans=True, title='Predicted APR vs Quoted APR')"
   ]
  },
  {
   "cell_type": "code",
   "execution_count": 22,
   "metadata": {},
   "outputs": [
    {
     "data": {
      "text/plain": [
       "25%~50%     73318\n",
       "0~25%       41378\n",
       "75%~100%    40484\n",
       "50%~75%      7111\n",
       "Name: diff, dtype: int64"
      ]
     },
     "execution_count": 22,
     "metadata": {},
     "output_type": "execute_result"
    }
   ],
   "source": [
    "# Distribution of predict result for adjusted APR of lost sale\n",
    "pd.qcut(examine2, 4,precision=8,labels=['0~25%','25%~50%','50%~75%','75%~100%'],duplicates='drop').value_counts()"
   ]
  },
  {
   "cell_type": "code",
   "execution_count": 23,
   "metadata": {},
   "outputs": [
    {
     "data": {
      "image/png": "[encoded data removed]",
      "text/plain": [
       "<matplotlib.figure.Figure at 0x11d8bb0f0>"
      ]
     },
     "metadata": {},
     "output_type": "display_data"
    }
   ],
   "source": [
    "pd.qcut(examine2,4,labels=['0~25%','25%~50%','50%~75%','75%~100%'],precision=8,duplicates='drop')\\\n",
    ".value_counts()\\\n",
    ".plot(kind='bar',rot=0, title='Potential Funded vs Lost Sales')\n",
    "plt.ylabel('Number');"
   ]
  },
  {
   "cell_type": "markdown",
   "metadata": {},
   "source": [
    "## Business Findings from Decision Tree Modeling "
   ]
  },
  {
   "cell_type": "markdown",
   "metadata": {},
   "source": [
    "1. Decision tree or even Random Forest modeling is better than Clustering because it can help idenitfy granular level details.\n",
    "\n",
    "2. Here I applied Decision Tree Regressor model to lost sales. This analysis shows that almost 50% of total predicted APR is BELOW the actual APR that was quoted.\n",
    "\n",
    "3. One hypothesis on why customer didn't proceed with the deal could be the HIGH APR.\n",
    "\n",
    "4. The ACTUAL quoted APR deviated from predicted APR  - which means original quotation may not be accurate. Thus, if we delpoy the model to lost sales, we shall anticipate an increase of funded loan. "
   ]
  }
 ],
 "metadata": {
  "kernelspec": {
   "display_name": "Python 3",
   "language": "python",
   "name": "python3"
  },
  "language_info": {
   "codemirror_mode": {
    "name": "ipython",
    "version": 3
   },
   "file_extension": ".py",
   "mimetype": "text/x-python",
   "name": "python",
   "nbconvert_exporter": "python",
   "pygments_lexer": "ipython3",
   "version": "3.6.1"
  }
 },
 "nbformat": 4,
 "nbformat_minor": 2
}
